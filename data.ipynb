{
 "cells": [
  {
   "cell_type": "code",
   "execution_count": 11,
   "outputs": [],
   "source": [
    "import numpy as np\n",
    "import pandas as pd"
   ],
   "metadata": {
    "collapsed": false,
    "pycharm": {
     "name": "#%%\n"
    }
   }
  },
  {
   "cell_type": "code",
   "execution_count": 12,
   "outputs": [],
   "source": [
    "dir = \"train_data_all.json\""
   ],
   "metadata": {
    "collapsed": false,
    "pycharm": {
     "name": "#%%\n"
    }
   }
  },
  {
   "cell_type": "code",
   "execution_count": 13,
   "outputs": [],
   "source": [
    "#complete dataset\n",
    "df = pd.read_json(dir,encoding=\"utf-8\", orient='records')\n",
    "#useful dataset\n",
    "useful_df = df.drop(columns=['item_name','price','user_name','rented_for','rating','age'])"
   ],
   "metadata": {
    "collapsed": false,
    "pycharm": {
     "name": "#%%\n"
    }
   }
  },
  {
   "cell_type": "code",
   "execution_count": 14,
   "outputs": [],
   "source": [
    "useful_df['size'].loc[df['size']=='NONE']=''\n",
    "useful_df['size'].loc[df['size']=='None']=''"
   ],
   "metadata": {
    "collapsed": false,
    "pycharm": {
     "name": "#%%\n"
    }
   }
  },
  {
   "cell_type": "code",
   "execution_count": 15,
   "outputs": [
    {
     "data": {
      "text/plain": "                                      review_summary  \\\n0                                      Classy topper   \n1                                    Perfect romper!   \n2                   Short but made me feel amazing!    \n3                             Fun & Warm Winter Coat   \n4  This shirt got me SO MANY COMPLIMENTS! super b...   \n\n                                              review fit usually_wear size  \\\n0  Really nice piece that dresses up your outfit,...                8   MR   \n1  This romper was great! Perfect for many occasi...               10    L   \n2  I'd say the romper typically runs true to size...                0    S   \n3  I rented this for a ski trip to vail, colorado...                4    S   \n4  Runs small. Really great quality and very styl...                6    S   \n\n  height bust_size  weight          body_type  \n0  5' 9\"            160LBS                     \n1             36DD  160LBS          HOURGLASS  \n2              30A  120LBS  STRAIGHT & NARROW  \n3  5' 6\"       32D  128LBS           ATHLETIC  \n4  5' 4\"       34B  140LBS          HOURGLASS  ",
      "text/html": "<div>\n<style scoped>\n    .dataframe tbody tr th:only-of-type {\n        vertical-align: middle;\n    }\n\n    .dataframe tbody tr th {\n        vertical-align: top;\n    }\n\n    .dataframe thead th {\n        text-align: right;\n    }\n</style>\n<table border=\"1\" class=\"dataframe\">\n  <thead>\n    <tr style=\"text-align: right;\">\n      <th></th>\n      <th>review_summary</th>\n      <th>review</th>\n      <th>fit</th>\n      <th>usually_wear</th>\n      <th>size</th>\n      <th>height</th>\n      <th>bust_size</th>\n      <th>weight</th>\n      <th>body_type</th>\n    </tr>\n  </thead>\n  <tbody>\n    <tr>\n      <th>0</th>\n      <td>Classy topper</td>\n      <td>Really nice piece that dresses up your outfit,...</td>\n      <td></td>\n      <td>8</td>\n      <td>MR</td>\n      <td>5' 9\"</td>\n      <td></td>\n      <td>160LBS</td>\n      <td></td>\n    </tr>\n    <tr>\n      <th>1</th>\n      <td>Perfect romper!</td>\n      <td>This romper was great! Perfect for many occasi...</td>\n      <td></td>\n      <td>10</td>\n      <td>L</td>\n      <td></td>\n      <td>36DD</td>\n      <td>160LBS</td>\n      <td>HOURGLASS</td>\n    </tr>\n    <tr>\n      <th>2</th>\n      <td>Short but made me feel amazing!</td>\n      <td>I'd say the romper typically runs true to size...</td>\n      <td></td>\n      <td>0</td>\n      <td>S</td>\n      <td></td>\n      <td>30A</td>\n      <td>120LBS</td>\n      <td>STRAIGHT &amp; NARROW</td>\n    </tr>\n    <tr>\n      <th>3</th>\n      <td>Fun &amp; Warm Winter Coat</td>\n      <td>I rented this for a ski trip to vail, colorado...</td>\n      <td></td>\n      <td>4</td>\n      <td>S</td>\n      <td>5' 6\"</td>\n      <td>32D</td>\n      <td>128LBS</td>\n      <td>ATHLETIC</td>\n    </tr>\n    <tr>\n      <th>4</th>\n      <td>This shirt got me SO MANY COMPLIMENTS! super b...</td>\n      <td>Runs small. Really great quality and very styl...</td>\n      <td></td>\n      <td>6</td>\n      <td>S</td>\n      <td>5' 4\"</td>\n      <td>34B</td>\n      <td>140LBS</td>\n      <td>HOURGLASS</td>\n    </tr>\n  </tbody>\n</table>\n</div>"
     },
     "execution_count": 15,
     "metadata": {},
     "output_type": "execute_result"
    }
   ],
   "source": [
    "useful_df.head()"
   ],
   "metadata": {
    "collapsed": false,
    "pycharm": {
     "name": "#%%\n"
    }
   }
  },
  {
   "cell_type": "code",
   "execution_count": 40,
   "outputs": [
    {
     "name": "stdout",
     "output_type": "stream",
     "text": [
      "review_summary     1265\n",
      "review             7584\n",
      "fit               27939\n",
      "usually_wear        582\n",
      "size               6545\n",
      "height            31695\n",
      "bust_size         14005\n",
      "weight            16299\n",
      "body_type         26704\n",
      "dtype: int64\n"
     ]
    }
   ],
   "source": [
    "print((useful_df=='').sum())"
   ],
   "metadata": {
    "collapsed": false,
    "pycharm": {
     "name": "#%%\n"
    }
   }
  },
  {
   "cell_type": "code",
   "execution_count": 17,
   "outputs": [
    {
     "data": {
      "text/plain": "4          19021\n6          16516\n8          12695\n2          11369\n10          8703\n           ...  \n25             1\n50             1\n63             1\nAge: 41        1\n38             1\nName: usually_wear, Length: 98, dtype: int64"
     },
     "execution_count": 17,
     "metadata": {},
     "output_type": "execute_result"
    }
   ],
   "source": [
    "# strange data\n",
    "useful_df['usually_wear'].value_counts()"
   ],
   "metadata": {
    "collapsed": false,
    "pycharm": {
     "name": "#%%\n"
    }
   }
  },
  {
   "cell_type": "code",
   "execution_count": 18,
   "outputs": [
    {
     "data": {
      "text/plain": "True to Size    40881\n                27939\nLarge           10162\nSmall            8784\nName: fit, dtype: int64"
     },
     "execution_count": 18,
     "metadata": {},
     "output_type": "execute_result"
    }
   ],
   "source": [
    "useful_df['fit'].value_counts()"
   ],
   "metadata": {
    "collapsed": false,
    "pycharm": {
     "name": "#%%\n"
    }
   }
  },
  {
   "cell_type": "code",
   "execution_count": 19,
   "outputs": [
    {
     "data": {
      "text/plain": "S        15053\nM        14584\nL         7966\nXS        7836\n          6545\n         ...  \n18WP         1\n22-24        1\n14P          1\nXLP          1\n18L          1\nName: size, Length: 161, dtype: int64"
     },
     "execution_count": 19,
     "metadata": {},
     "output_type": "execute_result"
    }
   ],
   "source": [
    "useful_df['size'].value_counts()"
   ],
   "metadata": {
    "collapsed": false,
    "pycharm": {
     "name": "#%%\n"
    }
   }
  },
  {
   "cell_type": "code",
   "execution_count": 20,
   "outputs": [
    {
     "data": {
      "text/plain": "                                                                                                    31695\n5' 4\"                                                                                                8347\n5' 6\"                                                                                                7687\n5' 7\"                                                                                                7228\n5' 5\"                                                                                                7148\n                                                                                                    ...  \nIt was a perfect outfit for my athletic build, paired with some baby pink pumps. I'd rent again.        1\ni didn't wear                                                                                           1\nThis was worn for a girls' night out for my birthday.                                                   1\nl didn't it.                                                                                            1\nCouldn't wear it                                                                                        1\nName: height, Length: 108, dtype: int64"
     },
     "execution_count": 20,
     "metadata": {},
     "output_type": "execute_result"
    }
   ],
   "source": [
    "useful_df['height'].value_counts()"
   ],
   "metadata": {
    "collapsed": false,
    "pycharm": {
     "name": "#%%\n"
    }
   }
  },
  {
   "cell_type": "code",
   "execution_count": 21,
   "outputs": [
    {
     "data": {
      "text/plain": "           14005\n34B         9410\n34C         8068\n34D         5739\n36C         4996\n           ...  \n44J            1\n44DDD/E        1\n48B            1\n46C            1\n38D+           1\nName: bust_size, Length: 110, dtype: int64"
     },
     "execution_count": 21,
     "metadata": {},
     "output_type": "execute_result"
    }
   ],
   "source": [
    "useful_df['bust_size'].value_counts()"
   ],
   "metadata": {
    "collapsed": false,
    "pycharm": {
     "name": "#%%\n"
    }
   }
  },
  {
   "cell_type": "code",
   "execution_count": 22,
   "outputs": [
    {
     "data": {
      "text/plain": "                16299\n130LBS           5698\n140LBS           5231\n135LBS           5214\n125LBS           4662\n                ...  \n145120150LBS        1\n155158LBS           1\n160160159LBS        1\n127125LBS           1\n1172LBS             1\nName: weight, Length: 557, dtype: int64"
     },
     "execution_count": 22,
     "metadata": {},
     "output_type": "execute_result"
    }
   ],
   "source": [
    "useful_df['weight'].value_counts()"
   ],
   "metadata": {
    "collapsed": false,
    "pycharm": {
     "name": "#%%\n"
    }
   }
  },
  {
   "cell_type": "code",
   "execution_count": 23,
   "outputs": [
    {
     "data": {
      "text/plain": "                     26704\nHOURGLASS            18504\nATHLETIC             15620\nPEAR                  7659\nPETITE                7018\nSTRAIGHT & NARROW     5364\nFULL BUST             4817\nAPPLE                 2080\nName: body_type, dtype: int64"
     },
     "execution_count": 23,
     "metadata": {},
     "output_type": "execute_result"
    }
   ],
   "source": [
    "useful_df['body_type'].value_counts()"
   ],
   "metadata": {
    "collapsed": false,
    "pycharm": {
     "name": "#%%\n"
    }
   }
  },
  {
   "cell_type": "code",
   "execution_count": 24,
   "outputs": [],
   "source": [
    "groups = useful_df.groupby(useful_df.fit)\n",
    "noFit = groups.get_group('')\n",
    "trueFit = groups.get_group('True to Size')\n",
    "largeFit = groups.get_group('Large')\n",
    "smallFit = groups.get_group('Small')"
   ],
   "metadata": {
    "collapsed": false,
    "pycharm": {
     "name": "#%%\n"
    }
   }
  },
  {
   "cell_type": "code",
   "execution_count": 25,
   "outputs": [
    {
     "data": {
      "text/plain": "                                          review_summary  \\\n0                                         Casual sweater   \n1                                  soft, fuzzy and warm!   \n2                                                    N.A   \n3                                      Billowing blouse    \n4                                          Insanely huge   \n...                                                  ...   \n18941                             Really fun arm detail!   \n18942                           Nice color block sweater   \n18943                                         Too small    \n18944                                        Nice jacket   \n18945  I never wore it, I couldn't get past the textu...   \n\n                                                  review    fit usually_wear  \\\n0      Somewhat roomy. Colors are nice for spring but...  Large            0   \n1      The jacket was a little bulkier than expected ...  Large            6   \n2                                               Very big  Large            8   \n3      Runs large, quality fabric not too thick but n...  Large           12   \n4      I was up for an oversized, slouchy vest. This ...  Large            6   \n...                                                  ...    ...          ...   \n18941  Runs small. I am usually between a small and a...  Small            6   \n18942  This sweater has very nice and bright colors. ...  Small            4   \n18943         Wrong size - going to reorder in a medium   Small            4   \n18944  Loved the jacket, too small for suggested size...  Small                \n18945                                                     Small            2   \n\n      size height bust_size     weight  body_type  \n0        S  5' 1\"               100LBS             \n1        S  5' 4\"      34DD     135LBS  HOURGLASS  \n2        M  5' 3\"       34C     150LBS       PEAR  \n3        L  5' 6\"       38C     180LBS   ATHLETIC  \n4        M              32D     140LBS  HOURGLASS  \n...    ...    ...       ...        ...        ...  \n18941    M  5' 9\"       34B                        \n18942    M  5' 9\"       32B     142LBS   ATHLETIC  \n18943    S  5' 4\"       34A  128130LBS   ATHLETIC  \n18944    L                                         \n18945    S  5' 4\"      34AA     110LBS             \n\n[18946 rows x 9 columns]",
      "text/html": "<div>\n<style scoped>\n    .dataframe tbody tr th:only-of-type {\n        vertical-align: middle;\n    }\n\n    .dataframe tbody tr th {\n        vertical-align: top;\n    }\n\n    .dataframe thead th {\n        text-align: right;\n    }\n</style>\n<table border=\"1\" class=\"dataframe\">\n  <thead>\n    <tr style=\"text-align: right;\">\n      <th></th>\n      <th>review_summary</th>\n      <th>review</th>\n      <th>fit</th>\n      <th>usually_wear</th>\n      <th>size</th>\n      <th>height</th>\n      <th>bust_size</th>\n      <th>weight</th>\n      <th>body_type</th>\n    </tr>\n  </thead>\n  <tbody>\n    <tr>\n      <th>0</th>\n      <td>Casual sweater</td>\n      <td>Somewhat roomy. Colors are nice for spring but...</td>\n      <td>Large</td>\n      <td>0</td>\n      <td>S</td>\n      <td>5' 1\"</td>\n      <td></td>\n      <td>100LBS</td>\n      <td></td>\n    </tr>\n    <tr>\n      <th>1</th>\n      <td>soft, fuzzy and warm!</td>\n      <td>The jacket was a little bulkier than expected ...</td>\n      <td>Large</td>\n      <td>6</td>\n      <td>S</td>\n      <td>5' 4\"</td>\n      <td>34DD</td>\n      <td>135LBS</td>\n      <td>HOURGLASS</td>\n    </tr>\n    <tr>\n      <th>2</th>\n      <td>N.A</td>\n      <td>Very big</td>\n      <td>Large</td>\n      <td>8</td>\n      <td>M</td>\n      <td>5' 3\"</td>\n      <td>34C</td>\n      <td>150LBS</td>\n      <td>PEAR</td>\n    </tr>\n    <tr>\n      <th>3</th>\n      <td>Billowing blouse</td>\n      <td>Runs large, quality fabric not too thick but n...</td>\n      <td>Large</td>\n      <td>12</td>\n      <td>L</td>\n      <td>5' 6\"</td>\n      <td>38C</td>\n      <td>180LBS</td>\n      <td>ATHLETIC</td>\n    </tr>\n    <tr>\n      <th>4</th>\n      <td>Insanely huge</td>\n      <td>I was up for an oversized, slouchy vest. This ...</td>\n      <td>Large</td>\n      <td>6</td>\n      <td>M</td>\n      <td></td>\n      <td>32D</td>\n      <td>140LBS</td>\n      <td>HOURGLASS</td>\n    </tr>\n    <tr>\n      <th>...</th>\n      <td>...</td>\n      <td>...</td>\n      <td>...</td>\n      <td>...</td>\n      <td>...</td>\n      <td>...</td>\n      <td>...</td>\n      <td>...</td>\n      <td>...</td>\n    </tr>\n    <tr>\n      <th>18941</th>\n      <td>Really fun arm detail!</td>\n      <td>Runs small. I am usually between a small and a...</td>\n      <td>Small</td>\n      <td>6</td>\n      <td>M</td>\n      <td>5' 9\"</td>\n      <td>34B</td>\n      <td></td>\n      <td></td>\n    </tr>\n    <tr>\n      <th>18942</th>\n      <td>Nice color block sweater</td>\n      <td>This sweater has very nice and bright colors. ...</td>\n      <td>Small</td>\n      <td>4</td>\n      <td>M</td>\n      <td>5' 9\"</td>\n      <td>32B</td>\n      <td>142LBS</td>\n      <td>ATHLETIC</td>\n    </tr>\n    <tr>\n      <th>18943</th>\n      <td>Too small</td>\n      <td>Wrong size - going to reorder in a medium</td>\n      <td>Small</td>\n      <td>4</td>\n      <td>S</td>\n      <td>5' 4\"</td>\n      <td>34A</td>\n      <td>128130LBS</td>\n      <td>ATHLETIC</td>\n    </tr>\n    <tr>\n      <th>18944</th>\n      <td>Nice jacket</td>\n      <td>Loved the jacket, too small for suggested size...</td>\n      <td>Small</td>\n      <td></td>\n      <td>L</td>\n      <td></td>\n      <td></td>\n      <td></td>\n      <td></td>\n    </tr>\n    <tr>\n      <th>18945</th>\n      <td>I never wore it, I couldn't get past the textu...</td>\n      <td></td>\n      <td>Small</td>\n      <td>2</td>\n      <td>S</td>\n      <td>5' 4\"</td>\n      <td>34AA</td>\n      <td>110LBS</td>\n      <td></td>\n    </tr>\n  </tbody>\n</table>\n<p>18946 rows × 9 columns</p>\n</div>"
     },
     "execution_count": 25,
     "metadata": {},
     "output_type": "execute_result"
    }
   ],
   "source": [
    "# merge dataset\n",
    "falseFit = pd.merge(largeFit,smallFit,how='outer')\n",
    "falseFit"
   ],
   "metadata": {
    "collapsed": false,
    "pycharm": {
     "name": "#%%\n"
    }
   }
  },
  {
   "cell_type": "code",
   "execution_count": 26,
   "outputs": [
    {
     "data": {
      "text/plain": "                                          review_summary  \\\n0                                          Classy topper   \n1                                        Perfect romper!   \n2                       Short but made me feel amazing!    \n3                                 Fun & Warm Winter Coat   \n4      This shirt got me SO MANY COMPLIMENTS! super b...   \n...                                                  ...   \n87756                                    Super cute warm   \n87758                            Not great for big boobs   \n87761                                    Gumby Like Arms   \n87762                                                Old   \n87764                            Perfect for the Fourth!   \n\n                                                  review fit usually_wear  \\\n0      Really nice piece that dresses up your outfit,...                8   \n1      This romper was great! Perfect for many occasi...               10   \n2      I'd say the romper typically runs true to size...                0   \n3      I rented this for a ski trip to vail, colorado...                4   \n4      Runs small. Really great quality and very styl...                6   \n...                                                  ...  ..          ...   \n87756  Loved this! I wore it over a black dress going...               10   \n87758  Cute blouse but not very comfortable. Didn't l...                4   \n87761  This was wild. Not only was it smaller than ex...               16   \n87762  Cost was old and over cleaned.  Also the color...               12   \n87764  Rented in unlimited for a July 4th cookout! Al...                6   \n\n      size height bust_size  weight          body_type  \n0       MR  5' 9\"            160LBS                     \n1        L             36DD  160LBS          HOURGLASS  \n2        S              30A  120LBS  STRAIGHT & NARROW  \n3        S  5' 6\"       32D  128LBS           ATHLETIC  \n4        S  5' 4\"       34B  140LBS          HOURGLASS  \n...    ...    ...       ...     ...                ...  \n87756    L              34C  175LBS           ATHLETIC  \n87758    S             32DD  120LBS             PETITE  \n87761  XXL  5' 7\"       40C  215LBS               PEAR  \n87762       5' 6\"                                       \n87764    M  5' 3\"       34D                             \n\n[27939 rows x 9 columns]",
      "text/html": "<div>\n<style scoped>\n    .dataframe tbody tr th:only-of-type {\n        vertical-align: middle;\n    }\n\n    .dataframe tbody tr th {\n        vertical-align: top;\n    }\n\n    .dataframe thead th {\n        text-align: right;\n    }\n</style>\n<table border=\"1\" class=\"dataframe\">\n  <thead>\n    <tr style=\"text-align: right;\">\n      <th></th>\n      <th>review_summary</th>\n      <th>review</th>\n      <th>fit</th>\n      <th>usually_wear</th>\n      <th>size</th>\n      <th>height</th>\n      <th>bust_size</th>\n      <th>weight</th>\n      <th>body_type</th>\n    </tr>\n  </thead>\n  <tbody>\n    <tr>\n      <th>0</th>\n      <td>Classy topper</td>\n      <td>Really nice piece that dresses up your outfit,...</td>\n      <td></td>\n      <td>8</td>\n      <td>MR</td>\n      <td>5' 9\"</td>\n      <td></td>\n      <td>160LBS</td>\n      <td></td>\n    </tr>\n    <tr>\n      <th>1</th>\n      <td>Perfect romper!</td>\n      <td>This romper was great! Perfect for many occasi...</td>\n      <td></td>\n      <td>10</td>\n      <td>L</td>\n      <td></td>\n      <td>36DD</td>\n      <td>160LBS</td>\n      <td>HOURGLASS</td>\n    </tr>\n    <tr>\n      <th>2</th>\n      <td>Short but made me feel amazing!</td>\n      <td>I'd say the romper typically runs true to size...</td>\n      <td></td>\n      <td>0</td>\n      <td>S</td>\n      <td></td>\n      <td>30A</td>\n      <td>120LBS</td>\n      <td>STRAIGHT &amp; NARROW</td>\n    </tr>\n    <tr>\n      <th>3</th>\n      <td>Fun &amp; Warm Winter Coat</td>\n      <td>I rented this for a ski trip to vail, colorado...</td>\n      <td></td>\n      <td>4</td>\n      <td>S</td>\n      <td>5' 6\"</td>\n      <td>32D</td>\n      <td>128LBS</td>\n      <td>ATHLETIC</td>\n    </tr>\n    <tr>\n      <th>4</th>\n      <td>This shirt got me SO MANY COMPLIMENTS! super b...</td>\n      <td>Runs small. Really great quality and very styl...</td>\n      <td></td>\n      <td>6</td>\n      <td>S</td>\n      <td>5' 4\"</td>\n      <td>34B</td>\n      <td>140LBS</td>\n      <td>HOURGLASS</td>\n    </tr>\n    <tr>\n      <th>...</th>\n      <td>...</td>\n      <td>...</td>\n      <td>...</td>\n      <td>...</td>\n      <td>...</td>\n      <td>...</td>\n      <td>...</td>\n      <td>...</td>\n      <td>...</td>\n    </tr>\n    <tr>\n      <th>87756</th>\n      <td>Super cute warm</td>\n      <td>Loved this! I wore it over a black dress going...</td>\n      <td></td>\n      <td>10</td>\n      <td>L</td>\n      <td></td>\n      <td>34C</td>\n      <td>175LBS</td>\n      <td>ATHLETIC</td>\n    </tr>\n    <tr>\n      <th>87758</th>\n      <td>Not great for big boobs</td>\n      <td>Cute blouse but not very comfortable. Didn't l...</td>\n      <td></td>\n      <td>4</td>\n      <td>S</td>\n      <td></td>\n      <td>32DD</td>\n      <td>120LBS</td>\n      <td>PETITE</td>\n    </tr>\n    <tr>\n      <th>87761</th>\n      <td>Gumby Like Arms</td>\n      <td>This was wild. Not only was it smaller than ex...</td>\n      <td></td>\n      <td>16</td>\n      <td>XXL</td>\n      <td>5' 7\"</td>\n      <td>40C</td>\n      <td>215LBS</td>\n      <td>PEAR</td>\n    </tr>\n    <tr>\n      <th>87762</th>\n      <td>Old</td>\n      <td>Cost was old and over cleaned.  Also the color...</td>\n      <td></td>\n      <td>12</td>\n      <td></td>\n      <td>5' 6\"</td>\n      <td></td>\n      <td></td>\n      <td></td>\n    </tr>\n    <tr>\n      <th>87764</th>\n      <td>Perfect for the Fourth!</td>\n      <td>Rented in unlimited for a July 4th cookout! Al...</td>\n      <td></td>\n      <td>6</td>\n      <td>M</td>\n      <td>5' 3\"</td>\n      <td>34D</td>\n      <td></td>\n      <td></td>\n    </tr>\n  </tbody>\n</table>\n<p>27939 rows × 9 columns</p>\n</div>"
     },
     "execution_count": 26,
     "metadata": {},
     "output_type": "execute_result"
    }
   ],
   "source": [
    "noFit"
   ],
   "metadata": {
    "collapsed": false,
    "pycharm": {
     "name": "#%%\n"
    }
   }
  },
  {
   "cell_type": "code",
   "execution_count": 28,
   "outputs": [],
   "source": [
    "Fit = pd.merge(trueFit,falseFit,how='outer')"
   ],
   "metadata": {
    "collapsed": false,
    "pycharm": {
     "name": "#%%\n"
    }
   }
  },
  {
   "cell_type": "code",
   "execution_count": 29,
   "outputs": [
    {
     "data": {
      "text/plain": "                                          review_summary  \\\n0                                               Love it!   \n1                                         Comfy leggings   \n2                    I wore this romper for a night out    \n3                     Super comfortable and great print    \n4                                    Perfectly tailored    \n...                                                  ...   \n59822                             Really fun arm detail!   \n59823                           Nice color block sweater   \n59824                                         Too small    \n59825                                        Nice jacket   \n59826  I never wore it, I couldn't get past the textu...   \n\n                                                  review           fit  \\\n0      Super fun outfit ! I loved it and got lots of ...  True to Size   \n1             these just felt like high quality leggings  True to Size   \n2                    Loved the color & fit not to short   True to Size   \n3      I rented this for work.  It was a little confu...  True to Size   \n4      This blazer was perfectly constructed to fit m...  True to Size   \n...                                                  ...           ...   \n59822  Runs small. I am usually between a small and a...         Small   \n59823  This sweater has very nice and bright colors. ...         Small   \n59824         Wrong size - going to reorder in a medium          Small   \n59825  Loved the jacket, too small for suggested size...         Small   \n59826                                                            Small   \n\n      usually_wear size height bust_size     weight  body_type  \n0               12    L  5' 8\"   36DDD/E     175LBS  FULL BUST  \n1                2   SR  5' 6\"       34A     125LBS   ATHLETIC  \n2                6    8  5' 3\"       34D                        \n3                6    6  5' 3\"       34B     140LBS   ATHLETIC  \n4                0    0              32B     118LBS   ATHLETIC  \n...            ...  ...    ...       ...        ...        ...  \n59822            6    M  5' 9\"       34B                        \n59823            4    M  5' 9\"       32B     142LBS   ATHLETIC  \n59824            4    S  5' 4\"       34A  128130LBS   ATHLETIC  \n59825                 L                                         \n59826            2    S  5' 4\"      34AA     110LBS             \n\n[59827 rows x 9 columns]",
      "text/html": "<div>\n<style scoped>\n    .dataframe tbody tr th:only-of-type {\n        vertical-align: middle;\n    }\n\n    .dataframe tbody tr th {\n        vertical-align: top;\n    }\n\n    .dataframe thead th {\n        text-align: right;\n    }\n</style>\n<table border=\"1\" class=\"dataframe\">\n  <thead>\n    <tr style=\"text-align: right;\">\n      <th></th>\n      <th>review_summary</th>\n      <th>review</th>\n      <th>fit</th>\n      <th>usually_wear</th>\n      <th>size</th>\n      <th>height</th>\n      <th>bust_size</th>\n      <th>weight</th>\n      <th>body_type</th>\n    </tr>\n  </thead>\n  <tbody>\n    <tr>\n      <th>0</th>\n      <td>Love it!</td>\n      <td>Super fun outfit ! I loved it and got lots of ...</td>\n      <td>True to Size</td>\n      <td>12</td>\n      <td>L</td>\n      <td>5' 8\"</td>\n      <td>36DDD/E</td>\n      <td>175LBS</td>\n      <td>FULL BUST</td>\n    </tr>\n    <tr>\n      <th>1</th>\n      <td>Comfy leggings</td>\n      <td>these just felt like high quality leggings</td>\n      <td>True to Size</td>\n      <td>2</td>\n      <td>SR</td>\n      <td>5' 6\"</td>\n      <td>34A</td>\n      <td>125LBS</td>\n      <td>ATHLETIC</td>\n    </tr>\n    <tr>\n      <th>2</th>\n      <td>I wore this romper for a night out</td>\n      <td>Loved the color &amp; fit not to short</td>\n      <td>True to Size</td>\n      <td>6</td>\n      <td>8</td>\n      <td>5' 3\"</td>\n      <td>34D</td>\n      <td></td>\n      <td></td>\n    </tr>\n    <tr>\n      <th>3</th>\n      <td>Super comfortable and great print</td>\n      <td>I rented this for work.  It was a little confu...</td>\n      <td>True to Size</td>\n      <td>6</td>\n      <td>6</td>\n      <td>5' 3\"</td>\n      <td>34B</td>\n      <td>140LBS</td>\n      <td>ATHLETIC</td>\n    </tr>\n    <tr>\n      <th>4</th>\n      <td>Perfectly tailored</td>\n      <td>This blazer was perfectly constructed to fit m...</td>\n      <td>True to Size</td>\n      <td>0</td>\n      <td>0</td>\n      <td></td>\n      <td>32B</td>\n      <td>118LBS</td>\n      <td>ATHLETIC</td>\n    </tr>\n    <tr>\n      <th>...</th>\n      <td>...</td>\n      <td>...</td>\n      <td>...</td>\n      <td>...</td>\n      <td>...</td>\n      <td>...</td>\n      <td>...</td>\n      <td>...</td>\n      <td>...</td>\n    </tr>\n    <tr>\n      <th>59822</th>\n      <td>Really fun arm detail!</td>\n      <td>Runs small. I am usually between a small and a...</td>\n      <td>Small</td>\n      <td>6</td>\n      <td>M</td>\n      <td>5' 9\"</td>\n      <td>34B</td>\n      <td></td>\n      <td></td>\n    </tr>\n    <tr>\n      <th>59823</th>\n      <td>Nice color block sweater</td>\n      <td>This sweater has very nice and bright colors. ...</td>\n      <td>Small</td>\n      <td>4</td>\n      <td>M</td>\n      <td>5' 9\"</td>\n      <td>32B</td>\n      <td>142LBS</td>\n      <td>ATHLETIC</td>\n    </tr>\n    <tr>\n      <th>59824</th>\n      <td>Too small</td>\n      <td>Wrong size - going to reorder in a medium</td>\n      <td>Small</td>\n      <td>4</td>\n      <td>S</td>\n      <td>5' 4\"</td>\n      <td>34A</td>\n      <td>128130LBS</td>\n      <td>ATHLETIC</td>\n    </tr>\n    <tr>\n      <th>59825</th>\n      <td>Nice jacket</td>\n      <td>Loved the jacket, too small for suggested size...</td>\n      <td>Small</td>\n      <td></td>\n      <td>L</td>\n      <td></td>\n      <td></td>\n      <td></td>\n      <td></td>\n    </tr>\n    <tr>\n      <th>59826</th>\n      <td>I never wore it, I couldn't get past the textu...</td>\n      <td></td>\n      <td>Small</td>\n      <td>2</td>\n      <td>S</td>\n      <td>5' 4\"</td>\n      <td>34AA</td>\n      <td>110LBS</td>\n      <td></td>\n    </tr>\n  </tbody>\n</table>\n<p>59827 rows × 9 columns</p>\n</div>"
     },
     "execution_count": 29,
     "metadata": {},
     "output_type": "execute_result"
    }
   ],
   "source": [
    "Fit"
   ],
   "metadata": {
    "collapsed": false,
    "pycharm": {
     "name": "#%%\n"
    }
   }
  },
  {
   "cell_type": "code",
   "execution_count": 38,
   "outputs": [],
   "source": [
    "g = Fit.groupby(Fit.)\n",
    "g1=g.get_group('')"
   ],
   "metadata": {
    "collapsed": false,
    "pycharm": {
     "name": "#%%\n"
    }
   }
  },
  {
   "cell_type": "code",
   "execution_count": 39,
   "outputs": [
    {
     "data": {
      "text/plain": "                                          review_summary review           fit  \\\n8      Love love loveeeeee this top! So cute and flat...         True to Size   \n27                   Cute warm sweater for causal days !         True to Size   \n32                                        Great sweater!         True to Size   \n33                                             Adorable!         True to Size   \n39                                                Itchy          True to Size   \n...                                                  ...    ...           ...   \n59791  Weird fit... tight on butt and thighs but has ...                Small   \n59798                 Tight waist. Fit weird. Super soft                Small   \n59806   Needs a camisole underneath and runs very small                 Small   \n59809  I normally wear a small, and the medium fit pe...                Small   \n59826  I never wore it, I couldn't get past the textu...                Small   \n\n      usually_wear size  height bust_size        weight body_type  \n8                6    S  4' 11\"       36C        125LBS            \n27              10    L   5' 8\"       34D        175LBS            \n32               6    S   5' 2\"               121121LBS            \n33               6    M   5' 8\"       34A        155LBS            \n39              14   XL   5' 4\"      38DD        170LBS            \n...            ...  ...     ...       ...           ...       ...  \n59791            2   XS   5' 7\"       32B     128128LBS            \n59798           14   31   5' 5\"       38C  200210210LBS            \n59806           12        5' 1\"       38C        176LBS            \n59809            6    M   5' 8\"       34B        127LBS            \n59826            2    S   5' 4\"      34AA        110LBS            \n\n[6230 rows x 9 columns]",
      "text/html": "<div>\n<style scoped>\n    .dataframe tbody tr th:only-of-type {\n        vertical-align: middle;\n    }\n\n    .dataframe tbody tr th {\n        vertical-align: top;\n    }\n\n    .dataframe thead th {\n        text-align: right;\n    }\n</style>\n<table border=\"1\" class=\"dataframe\">\n  <thead>\n    <tr style=\"text-align: right;\">\n      <th></th>\n      <th>review_summary</th>\n      <th>review</th>\n      <th>fit</th>\n      <th>usually_wear</th>\n      <th>size</th>\n      <th>height</th>\n      <th>bust_size</th>\n      <th>weight</th>\n      <th>body_type</th>\n    </tr>\n  </thead>\n  <tbody>\n    <tr>\n      <th>8</th>\n      <td>Love love loveeeeee this top! So cute and flat...</td>\n      <td></td>\n      <td>True to Size</td>\n      <td>6</td>\n      <td>S</td>\n      <td>4' 11\"</td>\n      <td>36C</td>\n      <td>125LBS</td>\n      <td></td>\n    </tr>\n    <tr>\n      <th>27</th>\n      <td>Cute warm sweater for causal days !</td>\n      <td></td>\n      <td>True to Size</td>\n      <td>10</td>\n      <td>L</td>\n      <td>5' 8\"</td>\n      <td>34D</td>\n      <td>175LBS</td>\n      <td></td>\n    </tr>\n    <tr>\n      <th>32</th>\n      <td>Great sweater!</td>\n      <td></td>\n      <td>True to Size</td>\n      <td>6</td>\n      <td>S</td>\n      <td>5' 2\"</td>\n      <td></td>\n      <td>121121LBS</td>\n      <td></td>\n    </tr>\n    <tr>\n      <th>33</th>\n      <td>Adorable!</td>\n      <td></td>\n      <td>True to Size</td>\n      <td>6</td>\n      <td>M</td>\n      <td>5' 8\"</td>\n      <td>34A</td>\n      <td>155LBS</td>\n      <td></td>\n    </tr>\n    <tr>\n      <th>39</th>\n      <td>Itchy</td>\n      <td></td>\n      <td>True to Size</td>\n      <td>14</td>\n      <td>XL</td>\n      <td>5' 4\"</td>\n      <td>38DD</td>\n      <td>170LBS</td>\n      <td></td>\n    </tr>\n    <tr>\n      <th>...</th>\n      <td>...</td>\n      <td>...</td>\n      <td>...</td>\n      <td>...</td>\n      <td>...</td>\n      <td>...</td>\n      <td>...</td>\n      <td>...</td>\n      <td>...</td>\n    </tr>\n    <tr>\n      <th>59791</th>\n      <td>Weird fit... tight on butt and thighs but has ...</td>\n      <td></td>\n      <td>Small</td>\n      <td>2</td>\n      <td>XS</td>\n      <td>5' 7\"</td>\n      <td>32B</td>\n      <td>128128LBS</td>\n      <td></td>\n    </tr>\n    <tr>\n      <th>59798</th>\n      <td>Tight waist. Fit weird. Super soft</td>\n      <td></td>\n      <td>Small</td>\n      <td>14</td>\n      <td>31</td>\n      <td>5' 5\"</td>\n      <td>38C</td>\n      <td>200210210LBS</td>\n      <td></td>\n    </tr>\n    <tr>\n      <th>59806</th>\n      <td>Needs a camisole underneath and runs very small</td>\n      <td></td>\n      <td>Small</td>\n      <td>12</td>\n      <td></td>\n      <td>5' 1\"</td>\n      <td>38C</td>\n      <td>176LBS</td>\n      <td></td>\n    </tr>\n    <tr>\n      <th>59809</th>\n      <td>I normally wear a small, and the medium fit pe...</td>\n      <td></td>\n      <td>Small</td>\n      <td>6</td>\n      <td>M</td>\n      <td>5' 8\"</td>\n      <td>34B</td>\n      <td>127LBS</td>\n      <td></td>\n    </tr>\n    <tr>\n      <th>59826</th>\n      <td>I never wore it, I couldn't get past the textu...</td>\n      <td></td>\n      <td>Small</td>\n      <td>2</td>\n      <td>S</td>\n      <td>5' 4\"</td>\n      <td>34AA</td>\n      <td>110LBS</td>\n      <td></td>\n    </tr>\n  </tbody>\n</table>\n<p>6230 rows × 9 columns</p>\n</div>"
     },
     "execution_count": 39,
     "metadata": {},
     "output_type": "execute_result"
    }
   ],
   "source": [
    "g1"
   ],
   "metadata": {
    "collapsed": false,
    "pycharm": {
     "name": "#%%\n"
    }
   }
  },
  {
   "cell_type": "code",
   "execution_count": null,
   "outputs": [],
   "source": [],
   "metadata": {
    "collapsed": false,
    "pycharm": {
     "name": "#%%\n"
    }
   }
  }
 ],
 "metadata": {
  "kernelspec": {
   "name": "pytorch39",
   "language": "python",
   "display_name": "pytorch39"
  },
  "language_info": {
   "codemirror_mode": {
    "name": "ipython",
    "version": 2
   },
   "file_extension": ".py",
   "mimetype": "text/x-python",
   "name": "python",
   "nbconvert_exporter": "python",
   "pygments_lexer": "ipython2",
   "version": "2.7.6"
  }
 },
 "nbformat": 4,
 "nbformat_minor": 0
}